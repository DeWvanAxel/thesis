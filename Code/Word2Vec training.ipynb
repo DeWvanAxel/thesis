{
 "cells": [
  {
   "cell_type": "code",
   "execution_count": 33,
   "metadata": {},
   "outputs": [],
   "source": [
    "import json\n",
    "from gensim.models import Word2Vec\n",
    "import re"
   ]
  },
  {
   "cell_type": "code",
   "execution_count": 37,
   "metadata": {},
   "outputs": [],
   "source": [
    "def preprocess(article):\n",
    "    article = article.encode('utf-8')\n",
    "    article = article.lower()\n",
    "    regex = re.compile('[^a-z\\s]')\n",
    "    article = regex.sub('', article)\n",
    "    return article.split(\" \")"
   ]
  },
  {
   "cell_type": "code",
   "execution_count": 38,
   "metadata": {},
   "outputs": [],
   "source": [
    "path = r\"C:\\Users\\Axel\\github\\thesis\\Data\\PoliFLW Data\\kamerstukken_topics_first.json\"\n",
    "\n",
    "with open(path) as data_file:    \n",
    "    data = json.load(data_file)\n",
    "    \n",
    "categories = []\n",
    "content = []\n",
    "\n",
    "for article in data:\n",
    "    #category = article[\"category\"].split(\"|\")\n",
    "    #categories.append(category[0])\n",
    "    content.append(preprocess(article[\"content\"]))\n",
    "    \n",
    "path = r\"C:\\Users\\Axel\\github\\thesis\\Data\\PoliFLW Data\\kamerstukken_topics_second.json\"\n",
    "\n",
    "with open(path) as data_file:    \n",
    "    testData = json.load(data_file)\n",
    "    \n",
    "for article in testData:\n",
    "    #category = article[\"category\"].split(\"|\")\n",
    "    #categories.append(category[0])\n",
    "    content.append(preprocess(article[\"content\"]))"
   ]
  },
  {
   "cell_type": "code",
   "execution_count": 40,
   "metadata": {},
   "outputs": [],
   "source": [
    "model = Word2Vec(content, size=100, window=5, min_count=5)"
   ]
  },
  {
   "cell_type": "code",
   "execution_count": 52,
   "metadata": {},
   "outputs": [
    {
     "data": {
      "text/plain": [
       "[('denemarken', 0.8783318996429443),\n",
       " ('duitsland', 0.8611330986022949),\n",
       " ('luxemburg', 0.8539666533470154),\n",
       " ('belgi', 0.8285197615623474),\n",
       " ('oostenrijk', 0.7817459106445312),\n",
       " ('spanje', 0.774141252040863),\n",
       " ('zweden', 0.7674286365509033),\n",
       " ('ierland', 0.76320880651474),\n",
       " ('zwitserland', 0.7629953026771545),\n",
       " ('itali', 0.7529625296592712)]"
      ]
     },
     "execution_count": 52,
     "metadata": {},
     "output_type": "execute_result"
    }
   ],
   "source": [
    "model.wv.most_similar(positive=['frankrijk'])\n",
    "#print(model.wv.vocab)"
   ]
  }
 ],
 "metadata": {
  "kernelspec": {
   "display_name": "Python 2",
   "language": "python",
   "name": "python2"
  },
  "language_info": {
   "codemirror_mode": {
    "name": "ipython",
    "version": 2
   },
   "file_extension": ".py",
   "mimetype": "text/x-python",
   "name": "python",
   "nbconvert_exporter": "python",
   "pygments_lexer": "ipython2",
   "version": "2.7.14"
  }
 },
 "nbformat": 4,
 "nbformat_minor": 2
}
