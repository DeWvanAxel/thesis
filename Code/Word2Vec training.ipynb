{
 "cells": [
  {
   "cell_type": "code",
   "execution_count": 1,
   "metadata": {},
   "outputs": [
    {
     "name": "stderr",
     "output_type": "stream",
     "text": [
      "C:\\Users\\Axel\\Anaconda2\\lib\\site-packages\\gensim\\utils.py:1197: UserWarning: detected Windows; aliasing chunkize to chunkize_serial\n",
      "  warnings.warn(\"detected Windows; aliasing chunkize to chunkize_serial\")\n"
     ]
    }
   ],
   "source": [
    "import json\n",
    "from gensim.models import Word2Vec\n",
    "import re"
   ]
  },
  {
   "cell_type": "code",
   "execution_count": 2,
   "metadata": {},
   "outputs": [],
   "source": [
    "def preprocess(article):\n",
    "    article = article.encode('utf-8')\n",
    "    article = article.lower()\n",
    "    regex = re.compile('[^a-z\\s]')\n",
    "    article = regex.sub('', article)\n",
    "    return article.split(\" \")"
   ]
  },
  {
   "cell_type": "code",
   "execution_count": 3,
   "metadata": {},
   "outputs": [],
   "source": [
    "path = r\"C:\\Users\\Axel\\github\\thesis\\Data\\PoliFLW Data\\kamerstukken_topics_first.json\"\n",
    "\n",
    "with open(path) as data_file:    \n",
    "    data = json.load(data_file)\n",
    "    \n",
    "categories = []\n",
    "content = []\n",
    "\n",
    "for article in data:\n",
    "    category = article[\"category\"].split(\"|\")\n",
    "    categories.append(category[0])\n",
    "    content.append(preprocess(article[\"content\"]))\n",
    "    \n",
    "path = r\"C:\\Users\\Axel\\github\\thesis\\Data\\PoliFLW Data\\kamerstukken_topics_second.json\"\n",
    "\n",
    "with open(path) as data_file:    \n",
    "    testData = json.load(data_file)\n",
    "    \n",
    "for article in testData:\n",
    "    category = article[\"category\"].split(\"|\")\n",
    "    categories.append(category[0])\n",
    "    content.append(preprocess(article[\"content\"]))"
   ]
  },
  {
   "cell_type": "code",
   "execution_count": 4,
   "metadata": {},
   "outputs": [],
   "source": [
    "model = Word2Vec(content, size=100, window=5, min_count=5)"
   ]
  },
  {
   "cell_type": "code",
   "execution_count": 5,
   "metadata": {},
   "outputs": [
    {
     "data": {
      "text/plain": [
       "[('denemarken', 0.8561245203018188),\n",
       " ('luxemburg', 0.8456012010574341),\n",
       " ('duitsland', 0.8286179304122925),\n",
       " ('belgi', 0.8060805201530457),\n",
       " ('zwitserland', 0.7735120058059692),\n",
       " ('oostenrijk', 0.7636076807975769),\n",
       " ('ierland', 0.7597377300262451),\n",
       " ('spanje', 0.7511701583862305),\n",
       " ('zweden', 0.7476193904876709),\n",
       " ('itali', 0.7416862845420837)]"
      ]
     },
     "execution_count": 5,
     "metadata": {},
     "output_type": "execute_result"
    }
   ],
   "source": [
    "model.wv.most_similar(positive=['frankrijk'])\n",
    "#print(model.wv.vocab)"
   ]
  }
 ],
 "metadata": {
  "kernelspec": {
   "display_name": "Python 2",
   "language": "python",
   "name": "python2"
  },
  "language_info": {
   "codemirror_mode": {
    "name": "ipython",
    "version": 2
   },
   "file_extension": ".py",
   "mimetype": "text/x-python",
   "name": "python",
   "nbconvert_exporter": "python",
   "pygments_lexer": "ipython2",
   "version": "2.7.14"
  }
 },
 "nbformat": 4,
 "nbformat_minor": 2
}
