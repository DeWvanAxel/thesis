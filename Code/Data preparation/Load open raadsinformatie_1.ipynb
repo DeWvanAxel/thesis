{
 "cells": [
  {
   "cell_type": "code",
   "execution_count": 97,
   "metadata": {},
   "outputs": [],
   "source": [
    "import requests\n",
    "import json\n",
    "import pprint\n",
    "import csv\n",
    "import time\n",
    "from copy import deepcopy\n",
    "from collections import Counter"
   ]
  },
  {
   "cell_type": "code",
   "execution_count": 3,
   "metadata": {},
   "outputs": [
    {
     "ename": "KeyError",
     "evalue": "'events'",
     "output_type": "error",
     "traceback": [
      "\u001b[1;31m---------------------------------------------------------------------------\u001b[0m",
      "\u001b[1;31mKeyError\u001b[0m                                  Traceback (most recent call last)",
      "\u001b[1;32m<ipython-input-3-16ad5d4c0a0d>\u001b[0m in \u001b[0;36m<module>\u001b[1;34m()\u001b[0m\n\u001b[0;32m     15\u001b[0m             \u001b[0mtotal\u001b[0m \u001b[1;33m=\u001b[0m \u001b[1;36m0\u001b[0m\u001b[1;33m\u001b[0m\u001b[0m\n\u001b[0;32m     16\u001b[0m \u001b[1;33m\u001b[0m\u001b[0m\n\u001b[1;32m---> 17\u001b[1;33m         \u001b[1;32mfor\u001b[0m \u001b[0marticle\u001b[0m \u001b[1;32min\u001b[0m \u001b[0mdata\u001b[0m\u001b[1;33m[\u001b[0m\u001b[1;34mu\"events\"\u001b[0m\u001b[1;33m]\u001b[0m\u001b[1;33m:\u001b[0m\u001b[1;33m\u001b[0m\u001b[0m\n\u001b[0m\u001b[0;32m     18\u001b[0m             \u001b[1;32mif\u001b[0m \u001b[1;34mu\"organization_id\"\u001b[0m \u001b[1;32min\u001b[0m \u001b[0marticle\u001b[0m\u001b[1;33m.\u001b[0m\u001b[0mkeys\u001b[0m\u001b[1;33m(\u001b[0m\u001b[1;33m)\u001b[0m \u001b[1;32mand\u001b[0m \u001b[1;34mu\"description\"\u001b[0m \u001b[1;32min\u001b[0m \u001b[0marticle\u001b[0m\u001b[1;33m.\u001b[0m\u001b[0mkeys\u001b[0m\u001b[1;33m(\u001b[0m\u001b[1;33m)\u001b[0m \u001b[1;32mand\u001b[0m \u001b[1;34mu\"name\"\u001b[0m \u001b[1;32min\u001b[0m \u001b[0marticle\u001b[0m\u001b[1;33m.\u001b[0m\u001b[0mkeys\u001b[0m\u001b[1;33m(\u001b[0m\u001b[1;33m)\u001b[0m \u001b[1;32mand\u001b[0m \u001b[1;34mu\"classification\"\u001b[0m \u001b[1;32min\u001b[0m \u001b[0marticle\u001b[0m\u001b[1;33m.\u001b[0m\u001b[0mkeys\u001b[0m\u001b[1;33m(\u001b[0m\u001b[1;33m)\u001b[0m\u001b[1;33m:\u001b[0m\u001b[1;33m\u001b[0m\u001b[0m\n\u001b[0;32m     19\u001b[0m                     writer.writerow({'gemeente': article[u\"organization_id\"].encode('utf-8'), \n",
      "\u001b[1;31mKeyError\u001b[0m: 'events'"
     ]
    }
   ],
   "source": [
    "with open('alleGemeentes2.csv', 'w', newline='') as csvfile:\n",
    "    fieldnames = ['gemeente', 'data', 'titel', 'klasse']\n",
    "    writer = csv.DictWriter(csvfile, delimiter ='|', fieldnames=fieldnames)\n",
    "    writer.writeheader()\n",
    "    \n",
    "    parameters = {\"scroll\": \"10m\"}\n",
    "    total = 1\n",
    "    while total > 0:\n",
    "        r = requests.get(\"http://api.openraadsinformatie.nl/v0/search\", params=parameters)\n",
    "        data = r.json()\n",
    "        parameters[\"scroll_id\"] = data[\"meta\"][\"scroll\"]\n",
    "        if len(data.keys()) > 1:\n",
    "            total = sum([len(x) for x in data.keys() if x != \"meta\"])\n",
    "        else:\n",
    "            total = 0\n",
    "\n",
    "        for article in data[u\"events\"]:\n",
    "            if u\"organization_id\" in article.keys() and u\"description\" in article.keys() and u\"name\" in article.keys() and u\"classification\" in article.keys():\n",
    "                    writer.writerow({'gemeente': article[u\"organization_id\"].encode('utf-8'), \n",
    "                                     'data': str(article[u\"description\"].encode('utf-8')).replace(\"\\\\n\", \" \").replace(\"\\\\u\", \" \").replace(\"\\\\r\", \" \"), \n",
    "                                     'titel': article[u\"name\"].encode('utf-8'), \n",
    "                                     'klasse': str(article[u\"classification\"].encode('utf-8')).replace(\"\\\\n\", \" \").replace(\"\\\\u\", \" \").replace(\"\\\\r\", \" \")})\n"
   ]
  },
  {
   "cell_type": "code",
   "execution_count": 35,
   "metadata": {},
   "outputs": [
    {
     "data": {
      "text/plain": [
       "13"
      ]
     },
     "execution_count": 35,
     "metadata": {},
     "output_type": "execute_result"
    }
   ],
   "source": [
    "[u'status', u'classification', u'description', u'end_date', u'identifiers', \n",
    " u'start_date', u'organization_id', u'sources', u'meta', u'organization', u'id', u'name']"
   ]
  },
  {
   "cell_type": "code",
   "execution_count": 77,
   "metadata": {
    "scrolled": false
   },
   "outputs": [
    {
     "name": "stdout",
     "output_type": "stream",
     "text": [
      "194\n"
     ]
    }
   ],
   "source": [
    "texts = []\n",
    "klasses = []\n",
    "parameters = {\"scroll\": \"10m\"}\n",
    "total = 10000\n",
    "while total > 0:\n",
    "    r = requests.get(\"http://api.openraadsinformatie.nl/v0/search\", params=parameters)\n",
    "    data = r.json()\n",
    "    parameters[\"scroll_id\"] = data[\"meta\"][\"scroll\"]\n",
    "    if len(data.keys()) > 1:\n",
    "        #total = sum([len(x) for x in data.keys() if x != \"meta\"])\n",
    "        x =1\n",
    "        #print(\"new round!\")\n",
    "    else:\n",
    "        total = 0\n",
    "\n",
    "    for article in data[u\"events\"]:\n",
    "#         for key in article.keys():\n",
    "#             if key not in listkeys:\n",
    "#                 listkeys.append(key)\n",
    "#         if \"sources\" in article.keys():\n",
    "#             if \"description\" in article[\"sources\"][0].keys():\n",
    "#                 new = article[\"sources\"][0][\"description\"]\n",
    "#                 if len(new) > 10:\n",
    "#                     listkeys.append(new)\n",
    "#         print(len(article.keys()))\n",
    "#         if u\"status\" in article.keys(): \n",
    "#             print(\"1\")\n",
    "#             pprint.pprint(article[\"status\"])\n",
    "#         if u\"classification\" in article.keys():\n",
    "#             print(\"2\")\n",
    "#             pprint.pprint(article[\"classification\"])\n",
    "        if u\"description\" in article.keys():\n",
    "            new = article[\"description\"]\n",
    "            if len(new) > 500: \n",
    "                klasses.append(article[\"classification\"])\n",
    "                texts.append(new)\n",
    "            #pprint.pprint(article[\"description\"])\n",
    "#         if u\"end_date\" in article.keys():\n",
    "#             print(\"4\")\n",
    "#             pprint.pprint(article[\"end_date\"])\n",
    "#         if u\"identifiers\" in article.keys():\n",
    "#             print(\"5\")\n",
    "#             pprint.pprint(article[\"identifiers\"])\n",
    "#         if u\"start_date\" in article.keys():\n",
    "#             print(\"6\")\n",
    "#             pprint.pprint(article[\"start_date\"])\n",
    "#         if u\"organization_id\" in article.keys():\n",
    "#             print(\"7\")\n",
    "#             pprint.pprint(article[\"organization_id\"])\n",
    "#         if u\"sources\" in article.keys():\n",
    "#             pprint.pprint(len(article[\"sources\"]))\n",
    "#             i = 5\n",
    "#             if len(article[\"sources\"]) > i: pprint.pprint(article[\"sources\"][i])\n",
    "#         if u\"meta\" in article.keys():#notrelevant\n",
    "#             pprint.pprint(article[\"meta\"])\n",
    "#         if u\"organization\" in article.keys():#notrelevant\n",
    "#            pprint.pprint(article[\"organization\"])\n",
    "#         if u\"id\" in article.keys():#notrelevant\n",
    "#             pprint.pprint(article[\"id\"])\n",
    "#         if u\"name\" in article.keys():#notrelevant\n",
    "#             pprint.pprint(article[\"name\"])\n",
    "#         if u\"children\" in article.keys():#notrelevant\n",
    "#             pprint.pprint(article[\"children\"])\n",
    "#         if u\"parent_id\" in article.keys():#notrelevant\n",
    "#             pprint.pprint(article[\"parent_id\"])\n",
    "#         if u\"location\" in article.keys(): #notrelevant\n",
    "#             pprint.pprint(article[\"location\"])\n",
    "        total -=1  \n",
    "        #print(\"--------------------------KAAS-----------------------------------\")\n",
    "    \n",
    "print(len(listkeys))"
   ]
  },
  {
   "cell_type": "code",
   "execution_count": 84,
   "metadata": {},
   "outputs": [
    {
     "name": "stdout",
     "output_type": "stream",
     "text": [
      "202.17727717923606\n"
     ]
    }
   ],
   "source": [
    "print(sum([len(doc.split()) for doc in texts])/len(texts))"
   ]
  },
  {
   "cell_type": "code",
   "execution_count": 90,
   "metadata": {},
   "outputs": [
    {
     "name": "stdout",
     "output_type": "stream",
     "text": [
      "Agenda \n",
      "\n",
      "\n",
      "\n",
      " Opening\r\n",
      "Vaststelling agenda\r\n",
      "Spreekrecht publieke tribune\r\n",
      "Ingekomen stukken en mededelingen\r\n",
      "\r\n",
      "Programmabegroting 2018\r\n",
      "\r\n",
      "De spreektijden tussen ( ) zijn richtlijnen\r\n",
      "19.15-20.50 eerste termijn raad (max 10 minuten spreektijd per fractie)\r\n",
      "20.50-21.00 pauze/schorsing\r\n",
      "21.00-21.50 eerste termijn college (max 10 minuten spreektijd per portefeuillehouder)\r\n",
      "21.50-22.00 pauze/schorsing\r\n",
      "22.00-22.40 tweede termijn raad (max 5 minuten spreektijd per fractie)\r\n",
      "22.40-23.05 tweede termijn college (max 5 minuten spreektijd per portefeuillehouder)\r\n",
      "23.05-23.15 stemmingen\r\n",
      "\r\n",
      "Sluiting\n"
     ]
    }
   ],
   "source": [
    "print(klasses[100], \"\\n\\n\\n\\n\",texts[100])"
   ]
  },
  {
   "cell_type": "code",
   "execution_count": 98,
   "metadata": {},
   "outputs": [
    {
     "data": {
      "text/plain": [
       "[('Agendapunt', 557),\n",
       " ('Verslag', 364),\n",
       " ('Agenda', 16),\n",
       " ('Report', 15),\n",
       " ('Videotulen Vragenuur', 10),\n",
       " ('Besluitenlijst', 9),\n",
       " ('Videotulen Raadsvergadering ', 9),\n",
       " ('Videotulen Gemeenteraadsvergadering', 8),\n",
       " ('Videotulen Gemeenteraad', 5),\n",
       " ('Videotulen Commissie Mens en Samenleving', 5),\n",
       " ('Videotulen Commissie Stad en Ruimte', 4),\n",
       " ('Moties', 4),\n",
       " ('Amendementen', 4),\n",
       " ('Videotulen Commissie Samenleving', 2),\n",
       " ('Videotulen Commissie Beleid Algemeen', 2),\n",
       " ('Resolution', 2),\n",
       " ('Raadsvragen', 1),\n",
       " ('Videotulen Commissie Ruimte ', 1),\n",
       " ('Videotulen Gezamenlijke commissievergadering functionele raadscommissies van de gemeenten Zeewolde, Ermelo en Harderwijk',\n",
       "  1),\n",
       " ('Videotulen Commissie Ruimte', 1),\n",
       " ('Videotulen Commissie Beleid Algemeen ', 1)]"
      ]
     },
     "execution_count": 98,
     "metadata": {},
     "output_type": "execute_result"
    }
   ],
   "source": [
    "Counter(klasses).most_common()"
   ]
  },
  {
   "cell_type": "code",
   "execution_count": 103,
   "metadata": {},
   "outputs": [],
   "source": [
    "with open('agendaPunten.csv', 'w', newline='') as csvfile:\n",
    "    writer = csv.DictWriter(csvfile, delimiter ='|', fieldnames=[\"data\"])\n",
    "    writer.writeheader()\n",
    "    for i,klas in enumerate(klasses):\n",
    "        if klas == \"Agendapunt\":\n",
    "            writer.writerow({\"data\":texts[i].encode(\"utf-8\")})\n"
   ]
  }
 ],
 "metadata": {
  "kernelspec": {
   "display_name": "Python 3",
   "language": "python",
   "name": "python3"
  },
  "language_info": {
   "codemirror_mode": {
    "name": "ipython",
    "version": 3
   },
   "file_extension": ".py",
   "mimetype": "text/x-python",
   "name": "python",
   "nbconvert_exporter": "python",
   "pygments_lexer": "ipython3",
   "version": "3.6.4"
  }
 },
 "nbformat": 4,
 "nbformat_minor": 2
}
