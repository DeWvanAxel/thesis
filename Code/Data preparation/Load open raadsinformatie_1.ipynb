{
 "cells": [
  {
   "cell_type": "code",
   "execution_count": 2,
   "metadata": {},
   "outputs": [],
   "source": [
    "import requests\n",
    "import json\n",
    "import pprint\n",
    "import csv\n",
    "import time\n",
    "from copy import deepcopy\n"
   ]
  },
  {
   "cell_type": "code",
   "execution_count": null,
   "metadata": {},
   "outputs": [],
   "source": [
    "with open('alleGemeentes.csv', 'w', newline='') as csvfile:\n",
    "    fieldnames = ['gemeente', 'data', 'titel', 'klasse']\n",
    "    writer = csv.DictWriter(csvfile, delimiter ='|', fieldnames=fieldnames)\n",
    "    writer.writeheader()\n",
    "    \n",
    "    parameters = {\"scroll\": \"10m\"}\n",
    "    total = 1\n",
    "    while total > 0:\n",
    "        r = requests.get(\"http://api.openraadsinformatie.nl/v0/search\", params=parameters)\n",
    "        data = r.json()\n",
    "        parameters[\"scroll_id\"] = data[\"meta\"][\"scroll\"]\n",
    "        if len(data.keys()) > 1:\n",
    "            total = sum([len(x) for x in data.keys() if x != \"meta\"])\n",
    "        else:\n",
    "            total = 0\n",
    "\n",
    "        for article in data[u\"events\"]:\n",
    "            if u\"organization_id\" in article.keys() and u\"description\" in article.keys() and u\"name\" in article.keys() and u\"classification\" in article.keys():\n",
    "                    writer.writerow({'gemeente': article[u\"organization_id\"].encode('utf-8'), \n",
    "                                     'data': str(article[u\"description\"].encode('utf-8')).replace(\"\\\\n\", \" \").replace(\"\\\\u\", \" \").replace(\"\\\\r\", \" \"), \n",
    "                                     'titel': article[u\"name\"].encode('utf-8'), \n",
    "                                     'klasse': str(article[u\"classification\"].encode('utf-8')).replace(\"\\\\n\", \" \").replace(\"\\\\u\", \" \").replace(\"\\\\r\", \" \")})\n"
   ]
  },
  {
   "cell_type": "code",
   "execution_count": 35,
   "metadata": {},
   "outputs": [
    {
     "data": {
      "text/plain": [
       "13"
      ]
     },
     "execution_count": 35,
     "metadata": {},
     "output_type": "execute_result"
    }
   ],
   "source": [
    "[u'status', u'classification', u'description', u'end_date', u'identifiers', \n",
    " u'start_date', u'organization_id', u'sources', u'meta', u'organization', u'id', u'name']"
   ]
  },
  {
   "cell_type": "code",
   "execution_count": 11,
   "metadata": {},
   "outputs": [
    {
     "name": "stdout",
     "output_type": "stream",
     "text": [
      "kaas\n"
     ]
    }
   ],
   "source": [
    "print(str(\"kaas\"))"
   ]
  }
 ],
 "metadata": {
  "kernelspec": {
   "display_name": "Python 3",
   "language": "python",
   "name": "python3"
  },
  "language_info": {
   "codemirror_mode": {
    "name": "ipython",
    "version": 3
   },
   "file_extension": ".py",
   "mimetype": "text/x-python",
   "name": "python",
   "nbconvert_exporter": "python",
   "pygments_lexer": "ipython3",
   "version": "3.6.4"
  }
 },
 "nbformat": 4,
 "nbformat_minor": 2
}
