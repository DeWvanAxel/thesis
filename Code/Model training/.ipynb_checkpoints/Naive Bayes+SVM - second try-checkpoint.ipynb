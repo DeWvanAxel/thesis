{
 "cells": [
  {
   "cell_type": "code",
   "execution_count": 2,
   "metadata": {},
   "outputs": [],
   "source": [
    "from collections import Counter\n",
    "import json\n",
    "import matplotlib.pyplot as plt\n",
    "import numpy as np\n",
    "from pprint import pprint\n",
    "from sklearn import metrics\n",
    "from sklearn.feature_extraction.text import TfidfVectorizer\n",
    "from sklearn.feature_extraction.text import CountVectorizer\n",
    "from sklearn.linear_model import SGDClassifier\n",
    "from sklearn.metrics import accuracy_score\n",
    "from sklearn.model_selection import train_test_split\n",
    "from sklearn.multiclass import OneVsRestClassifier\n",
    "from sklearn.naive_bayes import MultinomialNB\n",
    "import re"
   ]
  },
  {
   "cell_type": "markdown",
   "metadata": {},
   "source": [
    "#### Veel stukken van deze code zijn overgenomen van Joost en Max"
   ]
  },
  {
   "cell_type": "code",
   "execution_count": 3,
   "metadata": {},
   "outputs": [],
   "source": [
    "def preprocess(article):\n",
    "    article = article.encode('utf-8')\n",
    "    article = article.lower()\n",
    "    regex = re.compile('[^a-z\\s]')\n",
    "    article = regex.sub('', article)\n",
    "    return article"
   ]
  },
  {
   "cell_type": "code",
   "execution_count": 4,
   "metadata": {},
   "outputs": [
    {
     "name": "stdout",
     "output_type": "stream",
     "text": [
      "28294\n"
     ]
    },
    {
     "data": {
      "text/plain": [
       "Counter({u'Bestuur | De Nederlandse Antillen en Aruba': 189,\n",
       "         u'Bestuur | Gemeenten': 431,\n",
       "         u'Bestuur | Koninklijk Huis': 62,\n",
       "         u'Bestuur | Organisatie en beleid': 294,\n",
       "         u'Bestuur | Parlement': 86,\n",
       "         u'Bestuur | Provincies': 28,\n",
       "         u'Bestuur | Rijksoverheid': 136,\n",
       "         u'Bestuur | Waterschappen': 30,\n",
       "         u'Cultuur en recreatie | Cultuur': 111,\n",
       "         u'Cultuur en recreatie | Kunst': 33,\n",
       "         u'Cultuur en recreatie | Media': 243,\n",
       "         u'Cultuur en recreatie | Organisatie en beleid': 51,\n",
       "         u'Cultuur en recreatie | Recreatie': 52,\n",
       "         u'Cultuur en recreatie | Religie': 375,\n",
       "         u'Cultuur en recreatie | Sport': 255,\n",
       "         u'Economie | Bouwnijverheid': 61,\n",
       "         u'Economie | Handel': 368,\n",
       "         u'Economie | ICT': 297,\n",
       "         u'Economie | Industrie': 89,\n",
       "         u'Economie | Markttoezicht': 159,\n",
       "         u'Economie | Ondernemen': 282,\n",
       "         u'Economie | Organisatie en beleid': 200,\n",
       "         u'Economie | Overige economische sectoren': 715,\n",
       "         u'Economie | Toerisme': 11,\n",
       "         u'Economie | Transport': 61,\n",
       "         u'Financi\\xebn | Begroting': 20,\n",
       "         u'Financi\\xebn | Belasting': 568,\n",
       "         u'Financi\\xebn | Financieel toezicht': 289,\n",
       "         u'Financi\\xebn | Inkomensbeleid': 111,\n",
       "         u'Financi\\xebn | Organisatie en beleid': 309,\n",
       "         u'Huisvesting | Bouwen en verbouwen': 73,\n",
       "         u'Huisvesting | Huren en verhuren': 280,\n",
       "         u'Huisvesting | Kopen en verkopen': 94,\n",
       "         u'Huisvesting | Organisatie en beleid': 165,\n",
       "         u'Internationaal | Defensie': 494,\n",
       "         u'Internationaal | Europese zaken': 376,\n",
       "         u'Internationaal | Internationale samenwerking': 227,\n",
       "         u'Internationaal | Militaire missies': 27,\n",
       "         u'Internationaal | Ontwikkelingssamenwerking': 236,\n",
       "         u'Internationaal | Organisatie en beleid': 1417,\n",
       "         u'Internationaal | Reizen': 11,\n",
       "         u'Landbouw | Dieren': 480,\n",
       "         u'Landbouw | Organisatie en beleid': 245,\n",
       "         u'Landbouw | Planten': 69,\n",
       "         u'Landbouw | Voedselkwaliteit': 51,\n",
       "         u'Migratie en integratie | Emigratie': 8,\n",
       "         u'Migratie en integratie | Immigratie': 700,\n",
       "         u'Migratie en integratie | Integratie': 67,\n",
       "         u'Migratie en integratie | Nederlanderschap': 16,\n",
       "         u'Migratie en integratie | Organisatie en beleid': 325,\n",
       "         u'Migratie en integratie | Tijdelijk verblijf': 15,\n",
       "         u'NOCAT': 8,\n",
       "         u'Natuur en milieu | Afval': 165,\n",
       "         u'Natuur en milieu | Bodem': 83,\n",
       "         u'Natuur en milieu | Energie': 477,\n",
       "         u'Natuur en milieu | Geluid': 22,\n",
       "         u'Natuur en milieu | Lucht': 92,\n",
       "         u'Natuur en milieu | Natuur- en landschapsbeheer': 451,\n",
       "         u'Natuur en milieu | Organisatie en beleid': 222,\n",
       "         u'Natuur en milieu | Stoffen': 251,\n",
       "         u'Natuur en milieu | Water': 70,\n",
       "         u'Onderwijs en wetenschap | Basisonderwijs': 179,\n",
       "         u'Onderwijs en wetenschap | Beroepsonderwijs': 186,\n",
       "         u'Onderwijs en wetenschap | Hoger onderwijs': 337,\n",
       "         u'Onderwijs en wetenschap | Onderzoek en wetenschap': 62,\n",
       "         u'Onderwijs en wetenschap | Organisatie en beleid': 489,\n",
       "         u'Onderwijs en wetenschap | Overige vormen van onderwijs': 91,\n",
       "         u'Onderwijs en wetenschap | Voortgezet onderwijs': 166,\n",
       "         u'Openbare orde en veiligheid | Criminaliteit': 971,\n",
       "         u'Openbare orde en veiligheid | Organisatie en beleid': 1440,\n",
       "         u'Openbare orde en veiligheid | Politie, brandweer en hulpdiensten': 632,\n",
       "         u'Openbare orde en veiligheid | Rampen': 49,\n",
       "         u'Openbare orde en veiligheid | Staatsveiligheid': 161,\n",
       "         u'Openbare orde en veiligheid | Terrorisme': 320,\n",
       "         u'Recht | Bestuursrecht': 10,\n",
       "         u'Recht | Bezwaar en klachten': 14,\n",
       "         u'Recht | Burgerlijk recht': 260,\n",
       "         u'Recht | Organisatie en beleid': 145,\n",
       "         u'Recht | Rechtspraak': 279,\n",
       "         u'Recht | Staatsrecht': 545,\n",
       "         u'Recht | Strafrecht': 441,\n",
       "         u'Ruimte en infrastructuur | Netwerken': 29,\n",
       "         u'Ruimte en infrastructuur | Organisatie en beleid': 88,\n",
       "         u'Ruimte en infrastructuur | Ruimtelijke ordening': 29,\n",
       "         u'Ruimte en infrastructuur | Waterkeringen en waterbeheer': 67,\n",
       "         u'Sociale zekerheid | Gezin en kinderen': 149,\n",
       "         u'Sociale zekerheid | Jongeren': 36,\n",
       "         u'Sociale zekerheid | Nabestaanden': 7,\n",
       "         u'Sociale zekerheid | Organisatie en beleid': 318,\n",
       "         u'Sociale zekerheid | Ouderen': 211,\n",
       "         u'Sociale zekerheid | Werkloosheid': 62,\n",
       "         u'Sociale zekerheid | Ziekte en arbeidsongeschiktheid': 65,\n",
       "         u'Verkeer | Luchtvaart': 255,\n",
       "         u'Verkeer | Organisatie en beleid': 163,\n",
       "         u'Verkeer | Spoor': 413,\n",
       "         u'Verkeer | Water': 185,\n",
       "         u'Verkeer | Weg': 570,\n",
       "         u'Werk | Arbeidsomstandigheden': 148,\n",
       "         u'Werk | Arbeidsvoorwaarden': 203,\n",
       "         u'Werk | Levensloop': 2,\n",
       "         u'Werk | Ontslag': 81,\n",
       "         u'Werk | Organisatie en beleid': 267,\n",
       "         u'Werk | Werkgelegenheid': 168,\n",
       "         u'Zorg en gezondheid | Ethiek': 154,\n",
       "         u'Zorg en gezondheid | Geneesmiddelen en medische hulpmiddelen': 316,\n",
       "         u\"Zorg en gezondheid | Gezondheidsrisico's\": 271,\n",
       "         u'Zorg en gezondheid | Jongeren': 505,\n",
       "         u'Zorg en gezondheid | Organisatie en beleid': 2686,\n",
       "         u'Zorg en gezondheid | Ouderen': 174,\n",
       "         u'Zorg en gezondheid | Verzekeringen': 401,\n",
       "         u'Zorg en gezondheid | Voeding': 104,\n",
       "         u'Zorg en gezondheid | Ziekten en behandelingen': 257})"
      ]
     },
     "execution_count": 4,
     "metadata": {},
     "output_type": "execute_result"
    }
   ],
   "source": [
    "path = r\"C:\\Users\\Axel\\github\\thesis\\Data\\PoliFLW Data\\kamerstukken_topics_first.json\"\n",
    "\n",
    "with open(path) as data_file:    \n",
    "    data = json.load(data_file)\n",
    "    \n",
    "categories = []\n",
    "content = []\n",
    "\n",
    "for article in data:\n",
    "    category = article[\"category\"]#.split(\"|\")\n",
    "    categories.append(category)#[0])\n",
    "    content.append(preprocess(article[\"content\"]))\n",
    "    \n",
    "path = r\"C:\\Users\\Axel\\github\\thesis\\Data\\PoliFLW Data\\kamerstukken_topics_second.json\"\n",
    "\n",
    "with open(path) as data_file:    \n",
    "    testData = json.load(data_file)\n",
    "\n",
    "for article in testData:\n",
    "    category = article[\"category\"]#.split(\"|\")\n",
    "    categories.append(category)#[0])\n",
    "    content.append(preprocess(article[\"content\"]))\n",
    "    \n",
    "print(len(content))\n",
    "Counter(categories)"
   ]
  },
  {
   "cell_type": "code",
   "execution_count": 5,
   "metadata": {},
   "outputs": [
    {
     "name": "stdout",
     "output_type": "stream",
     "text": [
      "(22635, 147667)\n",
      "(5659L,)\n"
     ]
    }
   ],
   "source": [
    "transformer = TfidfVectorizer(smooth_idf=True, min_df=0.00000001, max_df=0.2, sublinear_tf=True)\n",
    "\n",
    "X_train_corpus, X_test_corpus, y_train, y_test = train_test_split(content, categories, test_size=0.2, random_state=42)\n",
    "\n",
    "X_train = transformer.fit_transform(X_train_corpus)\n",
    "X_test = transformer.transform(X_test_corpus)\n",
    "\n",
    "print(np.shape(X_train))\n",
    "print(np.shape(y_test))"
   ]
  },
  {
   "cell_type": "code",
   "execution_count": 6,
   "metadata": {
    "scrolled": false
   },
   "outputs": [
    {
     "name": "stdout",
     "output_type": "stream",
     "text": [
      "112\n",
      "0.7702774341756494\n"
     ]
    }
   ],
   "source": [
    "clf = SGDClassifier(loss='log', penalty='l1', alpha=1e-6, random_state=42, max_iter=10, tol=None)\n",
    "clf = OneVsRestClassifier(clf).fit(X_train, y_train)\n",
    "\n",
    "y_pred = clf.predict(X_test)\n",
    "\n",
    "proba = clf.predict_proba(X_test[0])\n",
    "print(len(proba[0]))\n",
    "\n",
    "score = accuracy_score(y_test, y_pred)\n",
    "\n",
    "print(score)"
   ]
  },
  {
   "cell_type": "code",
   "execution_count": 8,
   "metadata": {},
   "outputs": [
    {
     "name": "stdout",
     "output_type": "stream",
     "text": [
      "112\n",
      "0.1851917299876303\n"
     ]
    }
   ],
   "source": [
    "clf = MultinomialNB()\n",
    "clf = OneVsRestClassifier(clf).fit(X_train, y_train)\n",
    "\n",
    "y_pred = clf.predict(X_test)\n",
    "\n",
    "proba = clf.predict_proba(X_test[0])\n",
    "print(len(proba[0]))\n",
    "\n",
    "score = accuracy_score(y_test, y_pred)\n",
    "\n",
    "print(score)"
   ]
  },
  {
   "cell_type": "code",
   "execution_count": 9,
   "metadata": {},
   "outputs": [
    {
     "name": "stdout",
     "output_type": "stream",
     "text": [
      "(0.7339813373582283, 0.7702774341756494, 0.7678165826171034)\n",
      "(0.7767031198079153, 0.7702774341756494, 0.7741080830934394)\n"
     ]
    },
    {
     "name": "stderr",
     "output_type": "stream",
     "text": [
      "C:\\Users\\Axel\\Anaconda2\\lib\\site-packages\\sklearn\\metrics\\classification.py:1135: UndefinedMetricWarning: Precision is ill-defined and being set to 0.0 in labels with no predicted samples.\n",
      "  'precision', 'predicted', average, warn_for)\n"
     ]
    },
    {
     "name": "stdout",
     "output_type": "stream",
     "text": [
      "(0.7168221446155666, 0.7702774341756494, 0.7702774341756494)\n"
     ]
    }
   ],
   "source": [
    "from sklearn.metrics import f1_score, precision_score, recall_score\n",
    "\n",
    "\n",
    "print(f1_score(y_test, y_pred, average='macro'),f1_score(y_test, y_pred, average='micro'), \n",
    "      f1_score(y_test, y_pred, average='weighted') )\n",
    "\n",
    "print(precision_score(y_test, y_pred, average='macro'),precision_score(y_test, y_pred, average='micro'), \n",
    "      precision_score(y_test, y_pred, average='weighted') )\n",
    "\n",
    "print(recall_score(y_test, y_pred, average='macro'),recall_score(y_test, y_pred, average='micro'), \n",
    "      recall_score(y_test, y_pred, average='weighted') )"
   ]
  }
 ],
 "metadata": {
  "kernelspec": {
   "display_name": "Python 3",
   "language": "python",
   "name": "python3"
  },
  "language_info": {
   "codemirror_mode": {
    "name": "ipython",
    "version": 3
   },
   "file_extension": ".py",
   "mimetype": "text/x-python",
   "name": "python",
   "nbconvert_exporter": "python",
   "pygments_lexer": "ipython3",
   "version": "3.6.4"
  }
 },
 "nbformat": 4,
 "nbformat_minor": 2
}
