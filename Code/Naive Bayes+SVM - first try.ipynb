{
 "cells": [
  {
   "cell_type": "code",
   "execution_count": 56,
   "metadata": {},
   "outputs": [],
   "source": [
    "import json\n",
    "from pprint import pprint\n",
    "from sklearn.pipeline import Pipeline\n",
    "from sklearn.feature_extraction.text import TfidfTransformer\n",
    "from sklearn.feature_extraction.text import CountVectorizer\n",
    "from sklearn.naive_bayes import MultinomialNB\n",
    "from sklearn.linear_model import SGDClassifier\n",
    "import numpy as np\n",
    "import re"
   ]
  },
  {
   "cell_type": "code",
   "execution_count": 57,
   "metadata": {},
   "outputs": [],
   "source": [
    "def preprocess(article):\n",
    "    article = article.encode('utf-8')\n",
    "    article = article.lower()\n",
    "    regex = re.compile('[^a-z\\s]')\n",
    "    article = regex.sub('', article)\n",
    "    return article"
   ]
  },
  {
   "cell_type": "code",
   "execution_count": 58,
   "metadata": {},
   "outputs": [],
   "source": [
    "path = r\"C:\\Users\\Axel\\github\\thesis\\Data\\PoliFLW Data\\kamerstukken_topics_first.json\"\n",
    "\n",
    "with open(path) as data_file:    \n",
    "    data = json.load(data_file)\n",
    "    \n",
    "categories = []\n",
    "content = []\n",
    "\n",
    "for article in data:\n",
    "    category = article[\"category\"].split(\"|\")\n",
    "    categories.append(category[0])\n",
    "    content.append(preprocess(article[\"content\"]))"
   ]
  },
  {
   "cell_type": "code",
   "execution_count": 59,
   "metadata": {},
   "outputs": [],
   "source": [
    "count_vect = CountVectorizer()\n",
    "X_train_counts = count_vect.fit_transform(content)\n",
    "tfidf_transformer = TfidfTransformer()\n",
    "X_train_tfidf = tfidf_transformer.fit_transform(X_train_counts)\n",
    "clf = MultinomialNB().fit(X_train_tfidf, categories)"
   ]
  },
  {
   "cell_type": "code",
   "execution_count": 60,
   "metadata": {},
   "outputs": [
    {
     "name": "stderr",
     "output_type": "stream",
     "text": [
      "C:\\Users\\Axel\\Anaconda2\\lib\\site-packages\\sklearn\\linear_model\\stochastic_gradient.py:117: DeprecationWarning: n_iter parameter is deprecated in 0.19 and will be removed in 0.21. Use max_iter and tol instead.\n",
      "  DeprecationWarning)\n"
     ]
    }
   ],
   "source": [
    "svm = SGDClassifier(loss='hinge', penalty='l2', alpha=1e-3, n_iter=5, random_state=42).fit(X_train_tfidf, categories)"
   ]
  },
  {
   "cell_type": "code",
   "execution_count": 61,
   "metadata": {},
   "outputs": [],
   "source": [
    "path = r\"C:\\Users\\Axel\\github\\thesis\\Data\\PoliFLW Data\\kamerstukken_topics_second.json\"\n",
    "\n",
    "with open(path) as data_file:    \n",
    "    testData = json.load(data_file)\n",
    "    \n",
    "testCategories = []\n",
    "testContent = []\n",
    "\n",
    "for article in testData:\n",
    "    category = article[\"category\"].split(\"|\")\n",
    "    testCategories.append(category[0])\n",
    "    testContent.append(preprocess(article[\"content\"]))"
   ]
  },
  {
   "cell_type": "code",
   "execution_count": 62,
   "metadata": {},
   "outputs": [
    {
     "data": {
      "text/plain": [
       "0.16561815225842935"
      ]
     },
     "execution_count": 62,
     "metadata": {},
     "output_type": "execute_result"
    }
   ],
   "source": [
    "newVec = CountVectorizer(vocabulary=count_vect.vocabulary_)\n",
    "X_test_counts = newVec.fit_transform(testContent)\n",
    "X_test_tfidf = TfidfTransformer().fit_transform(X_train_counts)\n",
    "predicted = clf.predict(X_test_tfidf)\n",
    "np.mean(predicted == testCategories)"
   ]
  },
  {
   "cell_type": "code",
   "execution_count": 63,
   "metadata": {},
   "outputs": [
    {
     "data": {
      "text/plain": [
       "0.09698169223156854"
      ]
     },
     "execution_count": 63,
     "metadata": {},
     "output_type": "execute_result"
    }
   ],
   "source": [
    "predicted = svm.predict(X_test_tfidf)\n",
    "np.mean(predicted == testCategories)"
   ]
  },
  {
   "cell_type": "code",
   "execution_count": 67,
   "metadata": {},
   "outputs": [
    {
     "name": "stdout",
     "output_type": "stream",
     "text": [
      "Zorg en gezondheid \n",
      "Verkeer \n",
      "vragen van het lid segers christenunie aan de minister van veiligheid en justitie over de uitzending ongelukkige spoed ingezonden april  mededeling van minister van der steur veiligheid en justitie ontvangen mei  vraag  heeft u kennisgenomen van de uitzending ongelukkige spoed  vraag  deelt u de mening dat het een kwalijke zaak is dat er wekelijks een ongeval plaatsvindt met politie brandweer of ambulancevoertuigen hoe beoordeelt u dat feit vraag  op welke gronden is de richtlijn vastgesteld voor deze voertuigen om bij rood licht een kruising met een snelheid van maximaal  kmh te passeren hoe is het mogelijk dat dit in veel gevallen niet wordt nageleefd vraag  kunt u een reactie geven op het huidige gebruik van de verschillende oplossingsmogelijkheden die in het programma worden gegeven zoals het ritregistratiesysteem en de rijopleiding vraag  waarom wordt de informatie van een ritregistratiesysteem na een ongeluk niet standaard uitgelezen vraag  overweegt u om het ritregistratiesysteem in meer voertuigen van hulpdiensten te installeren zo ja op welke termijn zo nee waarom niet vraag  hoe kan het dat niet alle bestuurders van politievoertuigen driejaarlijks terugkeren voor een rijvaardigheidstraining wanneer is dit aantal op honderd procent gebracht vraag  welke afspraken zijn er voor de bestuurders van brandweer en ambulancevoertuigen ten aanzien van de rijvaardigheidstraining kunt u inzicht geven in de naleving vraag  hoe verhouden deze resultaten zich tot de toezeggingen die door u en eerder door de minister van binnenlandse zaken en koninkrijksrelaties zijn gedaan om het aantal ongelukken te verminderen en de scholing van de chauffeurs te verbeteren vraag  bent u van plan nu nadere maatregelen te nemen zo ja welke zo nee waarom niet mededeling hierbij deel ik u mede dat de schriftelijke vragen van het lid segers christenunie van uw kamer aan de minister van veiligheid en justitie over de uitzending ongelukkige spoed ingezonden april  niet binnen de gebruikelijke termijn kunnen worden beantwoord aangezien nog niet alle benodigde informatie is ontvangen ik streef ernaar de vragen zo spoedig mogelijk te beantwoorden\n"
     ]
    }
   ],
   "source": [
    "print(testCategories[15])\n",
    "print(predicted[15])\n",
    "print(testContent[15])"
   ]
  }
 ],
 "metadata": {
  "kernelspec": {
   "display_name": "Python 2",
   "language": "python",
   "name": "python2"
  },
  "language_info": {
   "codemirror_mode": {
    "name": "ipython",
    "version": 2
   },
   "file_extension": ".py",
   "mimetype": "text/x-python",
   "name": "python",
   "nbconvert_exporter": "python",
   "pygments_lexer": "ipython2",
   "version": "2.7.14"
  }
 },
 "nbformat": 4,
 "nbformat_minor": 2
}
